{
 "cells": [
  {
   "cell_type": "markdown",
   "id": "10277da8-6a81-49cf-a046-ec32a51fad95",
   "metadata": {},
   "source": [
    "# DATASET PROJECT TITLE: Appstore_Instagram_Reviews_Anonymized\n"
   ]
  },
  {
   "cell_type": "markdown",
   "id": "5d6ac9d4-ab65-45bb-a6e2-a214d3f29684",
   "metadata": {
    "editable": true,
    "slideshow": {
     "slide_type": ""
    },
    "tags": []
   },
   "source": [
    "##### Purpose:"
   ]
  },
  {
   "cell_type": "markdown",
   "id": "d3575fde-f4c3-4126-9042-f191eafc4216",
   "metadata": {},
   "source": [
    "Appstore Instagram Reviews Anonymized\" aims to utilize tools such as pandas and matplotlib to achieve several key functions. These include data cleaning to ensure the accuracy and consistency of the dataset, data manipulation for organizing and structuring the information effectively, data visualization to create insightful graphics and charts for better understanding, and data analysis to extract valuable insights and trends from the anonymized Instagram reviews on the Appstore platform. This project combines technical skills with a focus on privacy and usability, contributing to enhanced data-driven decision-making processes."
   ]
  },
  {
   "cell_type": "markdown",
   "id": "e97ac51d-91c1-43cb-a965-3fa8bdde06f0",
   "metadata": {},
   "source": [
    "### Step 1: Import necessary packages for data manipulation and visualization\r\n"
   ]
  },
  {
   "cell_type": "code",
   "execution_count": 3,
   "id": "ff23d8b2-adc5-4005-b0b2-28ef4af6ad45",
   "metadata": {},
   "outputs": [],
   "source": [
    "import pandas as pd\n",
    "import matplotlib as mpl"
   ]
  },
  {
   "cell_type": "markdown",
   "id": "df924ffb-2f7b-493d-bddf-852cc5116016",
   "metadata": {},
   "source": [
    "### Step 2: Loading the files from the local system to the Notebook"
   ]
  },
  {
   "cell_type": "code",
   "execution_count": 5,
   "id": "07cb42ff-29d0-494c-8913-3306356ad102",
   "metadata": {},
   "outputs": [],
   "source": [
    "data = pd.read_csv('C:/python-Project/appstore_instagram_reviews_anonymized.csv')"
   ]
  },
  {
   "cell_type": "code",
   "execution_count": 6,
   "id": "5b2a36c8-29ed-4c28-91b1-ed21b45f9c9f",
   "metadata": {},
   "outputs": [
    {
     "name": "stdout",
     "output_type": "stream",
     "text": [
      "         appId country                       date           id  score  \\\n",
      "0    389801252      DE  2024-03-20T22:37:03-07:00  11067766035      1   \n",
      "1    389801252      DE  2024-03-20T22:17:05-07:00  11067726970      4   \n",
      "2    389801252      DE  2024-03-20T16:08:40-07:00  11066866484      1   \n",
      "3    389801252      DE  2024-03-20T15:54:39-07:00  11066832683      1   \n",
      "4    389801252      DE  2024-03-20T14:59:23-07:00  11066699753      1   \n",
      "..         ...     ...                        ...          ...    ...   \n",
      "495  389801252      US  2024-03-20T10:15:45-07:00  11065969963      1   \n",
      "496  389801252      US  2024-03-20T10:14:51-07:00  11065967408      4   \n",
      "497  389801252      US  2024-03-20T10:12:51-07:00  11065961530      1   \n",
      "498  389801252      US  2024-03-20T10:03:08-07:00  11065933178      5   \n",
      "499  389801252      US  2024-03-20T10:01:09-07:00  11065927276      1   \n",
      "\n",
      "                                                  text  \\\n",
      "0    When I want to share any stories, posts or ree...   \n",
      "1    I have been using the app for a week now. I ca...   \n",
      "2    Instagram, was ist nur mit euch los? Es ist fr...   \n",
      "3     Die neue Schriftart ist so unglaublich hässlich.   \n",
      "4                        Null zufrieden darum gelöscht   \n",
      "..                                                 ...   \n",
      "495  Not able to use music since update. I can’t ma...   \n",
      "496  My insta keeps glitching out and the notes are...   \n",
      "497  Ion appreciate how y’all took my notes on both...   \n",
      "498  I love this app, Although my algorithm isn’t t...   \n",
      "499  2 advertisements back to back per every 4-5 po...   \n",
      "\n",
      "                                                 title  \\\n",
      "0                       List of friends in weird order   \n",
      "1                                      Great companion   \n",
      "2      #Instagram #Fehler #Verbesserung dringend nötig   \n",
      "3                                     Hässliche Layout   \n",
      "4    Instagram absoluter Müll geworden sorry aber e...   \n",
      "..                                                 ...   \n",
      "495                                      broken update   \n",
      "496                                            Notes??   \n",
      "497                                          Instagram   \n",
      "498                                Instagram Algorithm   \n",
      "499                       Ads make this app unbearable   \n",
      "\n",
      "                                                   url  \\\n",
      "0    https://itunes.apple.com/de/review?id=38980125...   \n",
      "1    https://itunes.apple.com/de/review?id=38980125...   \n",
      "2    https://itunes.apple.com/de/review?id=38980125...   \n",
      "3    https://itunes.apple.com/de/review?id=38980125...   \n",
      "4    https://itunes.apple.com/de/review?id=38980125...   \n",
      "..                                                 ...   \n",
      "495  https://itunes.apple.com/us/review?id=38980125...   \n",
      "496  https://itunes.apple.com/us/review?id=38980125...   \n",
      "497  https://itunes.apple.com/us/review?id=38980125...   \n",
      "498  https://itunes.apple.com/us/review?id=38980125...   \n",
      "499  https://itunes.apple.com/us/review?id=38980125...   \n",
      "\n",
      "                                              userName  \\\n",
      "0    988858b9f96ee718616ad5dc2496ff911ff86bd790caad...   \n",
      "1    06dfad50909f5bc85a0a4198d91da9e5d5ae9954e8bba6...   \n",
      "2    4b8d13b92ce712f53651cb538b1c079daa782136547a20...   \n",
      "3    52acf5c35b9fa5653f8fb7b9ab7ec305e0ead4f07708bc...   \n",
      "4    f31334bd164a58cffae342f04040b0f7cb2ad9416ed0b0...   \n",
      "..                                                 ...   \n",
      "495  fc9515e3c6cf290fe45251386d5070916358c65759e05a...   \n",
      "496  d314e04ed703c3dafe206dcf4e73bd8ac4ed9ded79be68...   \n",
      "497  d38ef2ab5f2fb0cdf4183c415f8e0bba9176ed031e9329...   \n",
      "498  07cbdff3fc7a99a2ef468ccf4fd10b301f3216dd095de4...   \n",
      "499  76034685bbad187f635975f6ac6b6af2bc302e51d1f0e8...   \n",
      "\n",
      "                                              userUrl  version  \n",
      "0     https://itunes.apple.com/de/reviews/id159880897  323.0.0  \n",
      "1    https://itunes.apple.com/de/reviews/id1333052389  323.0.0  \n",
      "2     https://itunes.apple.com/de/reviews/id711608090  323.0.0  \n",
      "3     https://itunes.apple.com/de/reviews/id830638504  323.0.0  \n",
      "4    https://itunes.apple.com/de/reviews/id1193916555  323.0.0  \n",
      "..                                                ...      ...  \n",
      "495  https://itunes.apple.com/us/reviews/id1497906061  323.0.0  \n",
      "496  https://itunes.apple.com/us/reviews/id1369652389  323.0.0  \n",
      "497  https://itunes.apple.com/us/reviews/id1499593735  323.0.0  \n",
      "498  https://itunes.apple.com/us/reviews/id1356468993  323.0.0  \n",
      "499    https://itunes.apple.com/us/reviews/id37450012  323.0.0  \n",
      "\n",
      "[500 rows x 11 columns]\n"
     ]
    }
   ],
   "source": [
    "print(data)\n"
   ]
  },
  {
   "cell_type": "markdown",
   "id": "158fc72b-cc81-434e-841f-064e78dfe8bd",
   "metadata": {},
   "source": [
    "### Step 3: Data View"
   ]
  },
  {
   "cell_type": "code",
   "execution_count": 4,
   "id": "4585dc98-59aa-49be-9494-48ddc0efa1e1",
   "metadata": {},
   "outputs": [
    {
     "data": {
      "text/html": [
       "<div>\n",
       "<style scoped>\n",
       "    .dataframe tbody tr th:only-of-type {\n",
       "        vertical-align: middle;\n",
       "    }\n",
       "\n",
       "    .dataframe tbody tr th {\n",
       "        vertical-align: top;\n",
       "    }\n",
       "\n",
       "    .dataframe thead th {\n",
       "        text-align: right;\n",
       "    }\n",
       "</style>\n",
       "<table border=\"1\" class=\"dataframe\">\n",
       "  <thead>\n",
       "    <tr style=\"text-align: right;\">\n",
       "      <th></th>\n",
       "      <th>appId</th>\n",
       "      <th>country</th>\n",
       "      <th>date</th>\n",
       "      <th>id</th>\n",
       "      <th>score</th>\n",
       "      <th>text</th>\n",
       "      <th>title</th>\n",
       "      <th>url</th>\n",
       "      <th>userName</th>\n",
       "      <th>userUrl</th>\n",
       "      <th>version</th>\n",
       "    </tr>\n",
       "  </thead>\n",
       "  <tbody>\n",
       "    <tr>\n",
       "      <th>0</th>\n",
       "      <td>389801252</td>\n",
       "      <td>DE</td>\n",
       "      <td>2024-03-20T22:37:03-07:00</td>\n",
       "      <td>11067766035</td>\n",
       "      <td>1</td>\n",
       "      <td>When I want to share any stories, posts or ree...</td>\n",
       "      <td>List of friends in weird order</td>\n",
       "      <td>https://itunes.apple.com/de/review?id=38980125...</td>\n",
       "      <td>988858b9f96ee718616ad5dc2496ff911ff86bd790caad...</td>\n",
       "      <td>https://itunes.apple.com/de/reviews/id159880897</td>\n",
       "      <td>323.0.0</td>\n",
       "    </tr>\n",
       "    <tr>\n",
       "      <th>1</th>\n",
       "      <td>389801252</td>\n",
       "      <td>DE</td>\n",
       "      <td>2024-03-20T22:17:05-07:00</td>\n",
       "      <td>11067726970</td>\n",
       "      <td>4</td>\n",
       "      <td>I have been using the app for a week now. I ca...</td>\n",
       "      <td>Great companion</td>\n",
       "      <td>https://itunes.apple.com/de/review?id=38980125...</td>\n",
       "      <td>06dfad50909f5bc85a0a4198d91da9e5d5ae9954e8bba6...</td>\n",
       "      <td>https://itunes.apple.com/de/reviews/id1333052389</td>\n",
       "      <td>323.0.0</td>\n",
       "    </tr>\n",
       "    <tr>\n",
       "      <th>2</th>\n",
       "      <td>389801252</td>\n",
       "      <td>DE</td>\n",
       "      <td>2024-03-20T16:08:40-07:00</td>\n",
       "      <td>11066866484</td>\n",
       "      <td>1</td>\n",
       "      <td>Instagram, was ist nur mit euch los? Es ist fr...</td>\n",
       "      <td>#Instagram #Fehler #Verbesserung dringend nötig</td>\n",
       "      <td>https://itunes.apple.com/de/review?id=38980125...</td>\n",
       "      <td>4b8d13b92ce712f53651cb538b1c079daa782136547a20...</td>\n",
       "      <td>https://itunes.apple.com/de/reviews/id711608090</td>\n",
       "      <td>323.0.0</td>\n",
       "    </tr>\n",
       "    <tr>\n",
       "      <th>3</th>\n",
       "      <td>389801252</td>\n",
       "      <td>DE</td>\n",
       "      <td>2024-03-20T15:54:39-07:00</td>\n",
       "      <td>11066832683</td>\n",
       "      <td>1</td>\n",
       "      <td>Die neue Schriftart ist so unglaublich hässlich.</td>\n",
       "      <td>Hässliche Layout</td>\n",
       "      <td>https://itunes.apple.com/de/review?id=38980125...</td>\n",
       "      <td>52acf5c35b9fa5653f8fb7b9ab7ec305e0ead4f07708bc...</td>\n",
       "      <td>https://itunes.apple.com/de/reviews/id830638504</td>\n",
       "      <td>323.0.0</td>\n",
       "    </tr>\n",
       "    <tr>\n",
       "      <th>4</th>\n",
       "      <td>389801252</td>\n",
       "      <td>DE</td>\n",
       "      <td>2024-03-20T14:59:23-07:00</td>\n",
       "      <td>11066699753</td>\n",
       "      <td>1</td>\n",
       "      <td>Null zufrieden darum gelöscht</td>\n",
       "      <td>Instagram absoluter Müll geworden sorry aber e...</td>\n",
       "      <td>https://itunes.apple.com/de/review?id=38980125...</td>\n",
       "      <td>f31334bd164a58cffae342f04040b0f7cb2ad9416ed0b0...</td>\n",
       "      <td>https://itunes.apple.com/de/reviews/id1193916555</td>\n",
       "      <td>323.0.0</td>\n",
       "    </tr>\n",
       "  </tbody>\n",
       "</table>\n",
       "</div>"
      ],
      "text/plain": [
       "       appId country                       date           id  score  \\\n",
       "0  389801252      DE  2024-03-20T22:37:03-07:00  11067766035      1   \n",
       "1  389801252      DE  2024-03-20T22:17:05-07:00  11067726970      4   \n",
       "2  389801252      DE  2024-03-20T16:08:40-07:00  11066866484      1   \n",
       "3  389801252      DE  2024-03-20T15:54:39-07:00  11066832683      1   \n",
       "4  389801252      DE  2024-03-20T14:59:23-07:00  11066699753      1   \n",
       "\n",
       "                                                text  \\\n",
       "0  When I want to share any stories, posts or ree...   \n",
       "1  I have been using the app for a week now. I ca...   \n",
       "2  Instagram, was ist nur mit euch los? Es ist fr...   \n",
       "3   Die neue Schriftart ist so unglaublich hässlich.   \n",
       "4                      Null zufrieden darum gelöscht   \n",
       "\n",
       "                                               title  \\\n",
       "0                     List of friends in weird order   \n",
       "1                                    Great companion   \n",
       "2    #Instagram #Fehler #Verbesserung dringend nötig   \n",
       "3                                   Hässliche Layout   \n",
       "4  Instagram absoluter Müll geworden sorry aber e...   \n",
       "\n",
       "                                                 url  \\\n",
       "0  https://itunes.apple.com/de/review?id=38980125...   \n",
       "1  https://itunes.apple.com/de/review?id=38980125...   \n",
       "2  https://itunes.apple.com/de/review?id=38980125...   \n",
       "3  https://itunes.apple.com/de/review?id=38980125...   \n",
       "4  https://itunes.apple.com/de/review?id=38980125...   \n",
       "\n",
       "                                            userName  \\\n",
       "0  988858b9f96ee718616ad5dc2496ff911ff86bd790caad...   \n",
       "1  06dfad50909f5bc85a0a4198d91da9e5d5ae9954e8bba6...   \n",
       "2  4b8d13b92ce712f53651cb538b1c079daa782136547a20...   \n",
       "3  52acf5c35b9fa5653f8fb7b9ab7ec305e0ead4f07708bc...   \n",
       "4  f31334bd164a58cffae342f04040b0f7cb2ad9416ed0b0...   \n",
       "\n",
       "                                            userUrl  version  \n",
       "0   https://itunes.apple.com/de/reviews/id159880897  323.0.0  \n",
       "1  https://itunes.apple.com/de/reviews/id1333052389  323.0.0  \n",
       "2   https://itunes.apple.com/de/reviews/id711608090  323.0.0  \n",
       "3   https://itunes.apple.com/de/reviews/id830638504  323.0.0  \n",
       "4  https://itunes.apple.com/de/reviews/id1193916555  323.0.0  "
      ]
     },
     "execution_count": 4,
     "metadata": {},
     "output_type": "execute_result"
    }
   ],
   "source": [
    "data.head()    # prints the first 5 rows of the dataset"
   ]
  },
  {
   "cell_type": "markdown",
   "id": "e4307f0c-44c0-41ca-9365-dac0daade1ef",
   "metadata": {},
   "source": [
    "### Data shape"
   ]
  },
  {
   "cell_type": "code",
   "execution_count": 5,
   "id": "b9e28b6d-7d83-4c1a-843b-a6455f621803",
   "metadata": {},
   "outputs": [
    {
     "name": "stdout",
     "output_type": "stream",
     "text": [
      "rows= 500\n",
      "columns= 11\n"
     ]
    }
   ],
   "source": [
    "# it shows number of rows and columns present in the dataset\n",
    "print(\"rows=\",data.shape[0])\n",
    "print(\"columns=\",data.shape[1])"
   ]
  },
  {
   "cell_type": "markdown",
   "id": "21a196ca-3054-464b-b1d3-5c7ec1a1d8ee",
   "metadata": {},
   "source": [
    "### Data Tail"
   ]
  },
  {
   "cell_type": "code",
   "execution_count": 6,
   "id": "3f9e8472-f8fa-41a0-8640-6e6784556a28",
   "metadata": {},
   "outputs": [
    {
     "data": {
      "text/html": [
       "<div>\n",
       "<style scoped>\n",
       "    .dataframe tbody tr th:only-of-type {\n",
       "        vertical-align: middle;\n",
       "    }\n",
       "\n",
       "    .dataframe tbody tr th {\n",
       "        vertical-align: top;\n",
       "    }\n",
       "\n",
       "    .dataframe thead th {\n",
       "        text-align: right;\n",
       "    }\n",
       "</style>\n",
       "<table border=\"1\" class=\"dataframe\">\n",
       "  <thead>\n",
       "    <tr style=\"text-align: right;\">\n",
       "      <th></th>\n",
       "      <th>appId</th>\n",
       "      <th>country</th>\n",
       "      <th>date</th>\n",
       "      <th>id</th>\n",
       "      <th>score</th>\n",
       "      <th>text</th>\n",
       "      <th>title</th>\n",
       "      <th>url</th>\n",
       "      <th>userName</th>\n",
       "      <th>userUrl</th>\n",
       "      <th>version</th>\n",
       "    </tr>\n",
       "  </thead>\n",
       "  <tbody>\n",
       "    <tr>\n",
       "      <th>495</th>\n",
       "      <td>389801252</td>\n",
       "      <td>US</td>\n",
       "      <td>2024-03-20T10:15:45-07:00</td>\n",
       "      <td>11065969963</td>\n",
       "      <td>1</td>\n",
       "      <td>Not able to use music since update. I can’t ma...</td>\n",
       "      <td>broken update</td>\n",
       "      <td>https://itunes.apple.com/us/review?id=38980125...</td>\n",
       "      <td>fc9515e3c6cf290fe45251386d5070916358c65759e05a...</td>\n",
       "      <td>https://itunes.apple.com/us/reviews/id1497906061</td>\n",
       "      <td>323.0.0</td>\n",
       "    </tr>\n",
       "    <tr>\n",
       "      <th>496</th>\n",
       "      <td>389801252</td>\n",
       "      <td>US</td>\n",
       "      <td>2024-03-20T10:14:51-07:00</td>\n",
       "      <td>11065967408</td>\n",
       "      <td>4</td>\n",
       "      <td>My insta keeps glitching out and the notes are...</td>\n",
       "      <td>Notes??</td>\n",
       "      <td>https://itunes.apple.com/us/review?id=38980125...</td>\n",
       "      <td>d314e04ed703c3dafe206dcf4e73bd8ac4ed9ded79be68...</td>\n",
       "      <td>https://itunes.apple.com/us/reviews/id1369652389</td>\n",
       "      <td>323.0.0</td>\n",
       "    </tr>\n",
       "    <tr>\n",
       "      <th>497</th>\n",
       "      <td>389801252</td>\n",
       "      <td>US</td>\n",
       "      <td>2024-03-20T10:12:51-07:00</td>\n",
       "      <td>11065961530</td>\n",
       "      <td>1</td>\n",
       "      <td>Ion appreciate how y’all took my notes on both...</td>\n",
       "      <td>Instagram</td>\n",
       "      <td>https://itunes.apple.com/us/review?id=38980125...</td>\n",
       "      <td>d38ef2ab5f2fb0cdf4183c415f8e0bba9176ed031e9329...</td>\n",
       "      <td>https://itunes.apple.com/us/reviews/id1499593735</td>\n",
       "      <td>323.0.0</td>\n",
       "    </tr>\n",
       "    <tr>\n",
       "      <th>498</th>\n",
       "      <td>389801252</td>\n",
       "      <td>US</td>\n",
       "      <td>2024-03-20T10:03:08-07:00</td>\n",
       "      <td>11065933178</td>\n",
       "      <td>5</td>\n",
       "      <td>I love this app, Although my algorithm isn’t t...</td>\n",
       "      <td>Instagram Algorithm</td>\n",
       "      <td>https://itunes.apple.com/us/review?id=38980125...</td>\n",
       "      <td>07cbdff3fc7a99a2ef468ccf4fd10b301f3216dd095de4...</td>\n",
       "      <td>https://itunes.apple.com/us/reviews/id1356468993</td>\n",
       "      <td>323.0.0</td>\n",
       "    </tr>\n",
       "    <tr>\n",
       "      <th>499</th>\n",
       "      <td>389801252</td>\n",
       "      <td>US</td>\n",
       "      <td>2024-03-20T10:01:09-07:00</td>\n",
       "      <td>11065927276</td>\n",
       "      <td>1</td>\n",
       "      <td>2 advertisements back to back per every 4-5 po...</td>\n",
       "      <td>Ads make this app unbearable</td>\n",
       "      <td>https://itunes.apple.com/us/review?id=38980125...</td>\n",
       "      <td>76034685bbad187f635975f6ac6b6af2bc302e51d1f0e8...</td>\n",
       "      <td>https://itunes.apple.com/us/reviews/id37450012</td>\n",
       "      <td>323.0.0</td>\n",
       "    </tr>\n",
       "  </tbody>\n",
       "</table>\n",
       "</div>"
      ],
      "text/plain": [
       "         appId country                       date           id  score  \\\n",
       "495  389801252      US  2024-03-20T10:15:45-07:00  11065969963      1   \n",
       "496  389801252      US  2024-03-20T10:14:51-07:00  11065967408      4   \n",
       "497  389801252      US  2024-03-20T10:12:51-07:00  11065961530      1   \n",
       "498  389801252      US  2024-03-20T10:03:08-07:00  11065933178      5   \n",
       "499  389801252      US  2024-03-20T10:01:09-07:00  11065927276      1   \n",
       "\n",
       "                                                  text  \\\n",
       "495  Not able to use music since update. I can’t ma...   \n",
       "496  My insta keeps glitching out and the notes are...   \n",
       "497  Ion appreciate how y’all took my notes on both...   \n",
       "498  I love this app, Although my algorithm isn’t t...   \n",
       "499  2 advertisements back to back per every 4-5 po...   \n",
       "\n",
       "                            title  \\\n",
       "495                 broken update   \n",
       "496                       Notes??   \n",
       "497                     Instagram   \n",
       "498           Instagram Algorithm   \n",
       "499  Ads make this app unbearable   \n",
       "\n",
       "                                                   url  \\\n",
       "495  https://itunes.apple.com/us/review?id=38980125...   \n",
       "496  https://itunes.apple.com/us/review?id=38980125...   \n",
       "497  https://itunes.apple.com/us/review?id=38980125...   \n",
       "498  https://itunes.apple.com/us/review?id=38980125...   \n",
       "499  https://itunes.apple.com/us/review?id=38980125...   \n",
       "\n",
       "                                              userName  \\\n",
       "495  fc9515e3c6cf290fe45251386d5070916358c65759e05a...   \n",
       "496  d314e04ed703c3dafe206dcf4e73bd8ac4ed9ded79be68...   \n",
       "497  d38ef2ab5f2fb0cdf4183c415f8e0bba9176ed031e9329...   \n",
       "498  07cbdff3fc7a99a2ef468ccf4fd10b301f3216dd095de4...   \n",
       "499  76034685bbad187f635975f6ac6b6af2bc302e51d1f0e8...   \n",
       "\n",
       "                                              userUrl  version  \n",
       "495  https://itunes.apple.com/us/reviews/id1497906061  323.0.0  \n",
       "496  https://itunes.apple.com/us/reviews/id1369652389  323.0.0  \n",
       "497  https://itunes.apple.com/us/reviews/id1499593735  323.0.0  \n",
       "498  https://itunes.apple.com/us/reviews/id1356468993  323.0.0  \n",
       "499    https://itunes.apple.com/us/reviews/id37450012  323.0.0  "
      ]
     },
     "execution_count": 6,
     "metadata": {},
     "output_type": "execute_result"
    }
   ],
   "source": [
    "# It Displays buttom 5 rows default tail()\n",
    "data.tail()"
   ]
  },
  {
   "cell_type": "markdown",
   "id": "b502b65b-6131-4ac3-a6d4-42f7b3c3eef8",
   "metadata": {},
   "source": [
    "### Data Describe"
   ]
  },
  {
   "cell_type": "code",
   "execution_count": 37,
   "id": "1de634da-5e55-441a-9456-4193b9b5c2d9",
   "metadata": {},
   "outputs": [
    {
     "data": {
      "text/plain": [
       "<bound method NDFrame.describe of          appId country                       date           id  score  \\\n",
       "0    389801252      DE  2024-03-20T22:37:03-07:00  11067766035      1   \n",
       "1    389801252      DE  2024-03-20T22:17:05-07:00  11067726970      4   \n",
       "2    389801252      DE  2024-03-20T16:08:40-07:00  11066866484      1   \n",
       "3    389801252      DE  2024-03-20T15:54:39-07:00  11066832683      1   \n",
       "4    389801252      DE  2024-03-20T14:59:23-07:00  11066699753      1   \n",
       "..         ...     ...                        ...          ...    ...   \n",
       "495  389801252      US  2024-03-20T10:15:45-07:00  11065969963      1   \n",
       "496  389801252      US  2024-03-20T10:14:51-07:00  11065967408      4   \n",
       "497  389801252      US  2024-03-20T10:12:51-07:00  11065961530      1   \n",
       "498  389801252      US  2024-03-20T10:03:08-07:00  11065933178      5   \n",
       "499  389801252      US  2024-03-20T10:01:09-07:00  11065927276      1   \n",
       "\n",
       "                                                  text  \\\n",
       "0    When I want to share any stories, posts or ree...   \n",
       "1    I have been using the app for a week now. I ca...   \n",
       "2    Instagram, was ist nur mit euch los? Es ist fr...   \n",
       "3     Die neue Schriftart ist so unglaublich hässlich.   \n",
       "4                        Null zufrieden darum gelöscht   \n",
       "..                                                 ...   \n",
       "495  Not able to use music since update. I can’t ma...   \n",
       "496  My insta keeps glitching out and the notes are...   \n",
       "497  Ion appreciate how y’all took my notes on both...   \n",
       "498  I love this app, Although my algorithm isn’t t...   \n",
       "499  2 advertisements back to back per every 4-5 po...   \n",
       "\n",
       "                                                 title  \\\n",
       "0                       List of friends in weird order   \n",
       "1                                      Great companion   \n",
       "2      #Instagram #Fehler #Verbesserung dringend nötig   \n",
       "3                                     Hässliche Layout   \n",
       "4    Instagram absoluter Müll geworden sorry aber e...   \n",
       "..                                                 ...   \n",
       "495                                      broken update   \n",
       "496                                            Notes??   \n",
       "497                                          Instagram   \n",
       "498                                Instagram Algorithm   \n",
       "499                       Ads make this app unbearable   \n",
       "\n",
       "                                                   url  \\\n",
       "0    https://itunes.apple.com/de/review?id=38980125...   \n",
       "1    https://itunes.apple.com/de/review?id=38980125...   \n",
       "2    https://itunes.apple.com/de/review?id=38980125...   \n",
       "3    https://itunes.apple.com/de/review?id=38980125...   \n",
       "4    https://itunes.apple.com/de/review?id=38980125...   \n",
       "..                                                 ...   \n",
       "495  https://itunes.apple.com/us/review?id=38980125...   \n",
       "496  https://itunes.apple.com/us/review?id=38980125...   \n",
       "497  https://itunes.apple.com/us/review?id=38980125...   \n",
       "498  https://itunes.apple.com/us/review?id=38980125...   \n",
       "499  https://itunes.apple.com/us/review?id=38980125...   \n",
       "\n",
       "                                              userName  \\\n",
       "0    988858b9f96ee718616ad5dc2496ff911ff86bd790caad...   \n",
       "1    06dfad50909f5bc85a0a4198d91da9e5d5ae9954e8bba6...   \n",
       "2    4b8d13b92ce712f53651cb538b1c079daa782136547a20...   \n",
       "3    52acf5c35b9fa5653f8fb7b9ab7ec305e0ead4f07708bc...   \n",
       "4    f31334bd164a58cffae342f04040b0f7cb2ad9416ed0b0...   \n",
       "..                                                 ...   \n",
       "495  fc9515e3c6cf290fe45251386d5070916358c65759e05a...   \n",
       "496  d314e04ed703c3dafe206dcf4e73bd8ac4ed9ded79be68...   \n",
       "497  d38ef2ab5f2fb0cdf4183c415f8e0bba9176ed031e9329...   \n",
       "498  07cbdff3fc7a99a2ef468ccf4fd10b301f3216dd095de4...   \n",
       "499  76034685bbad187f635975f6ac6b6af2bc302e51d1f0e8...   \n",
       "\n",
       "                                              userUrl  version  \n",
       "0     https://itunes.apple.com/de/reviews/id159880897  323.0.0  \n",
       "1    https://itunes.apple.com/de/reviews/id1333052389  323.0.0  \n",
       "2     https://itunes.apple.com/de/reviews/id711608090  323.0.0  \n",
       "3     https://itunes.apple.com/de/reviews/id830638504  323.0.0  \n",
       "4    https://itunes.apple.com/de/reviews/id1193916555  323.0.0  \n",
       "..                                                ...      ...  \n",
       "495  https://itunes.apple.com/us/reviews/id1497906061  323.0.0  \n",
       "496  https://itunes.apple.com/us/reviews/id1369652389  323.0.0  \n",
       "497  https://itunes.apple.com/us/reviews/id1499593735  323.0.0  \n",
       "498  https://itunes.apple.com/us/reviews/id1356468993  323.0.0  \n",
       "499    https://itunes.apple.com/us/reviews/id37450012  323.0.0  \n",
       "\n",
       "[500 rows x 11 columns]>"
      ]
     },
     "execution_count": 37,
     "metadata": {},
     "output_type": "execute_result"
    }
   ],
   "source": [
    "# It describes the data in the dataset\n",
    "data.describe"
   ]
  },
  {
   "cell_type": "code",
   "execution_count": 39,
   "id": "7d0c95de-884a-40ed-8f4a-3ebb60d291a3",
   "metadata": {},
   "outputs": [
    {
     "data": {
      "text/html": [
       "<div>\n",
       "<style scoped>\n",
       "    .dataframe tbody tr th:only-of-type {\n",
       "        vertical-align: middle;\n",
       "    }\n",
       "\n",
       "    .dataframe tbody tr th {\n",
       "        vertical-align: top;\n",
       "    }\n",
       "\n",
       "    .dataframe thead th {\n",
       "        text-align: right;\n",
       "    }\n",
       "</style>\n",
       "<table border=\"1\" class=\"dataframe\">\n",
       "  <thead>\n",
       "    <tr style=\"text-align: right;\">\n",
       "      <th></th>\n",
       "      <th>id</th>\n",
       "      <th>score</th>\n",
       "    </tr>\n",
       "  </thead>\n",
       "  <tbody>\n",
       "    <tr>\n",
       "      <th>count</th>\n",
       "      <td>5.000000e+02</td>\n",
       "      <td>500.000000</td>\n",
       "    </tr>\n",
       "    <tr>\n",
       "      <th>mean</th>\n",
       "      <td>1.105986e+10</td>\n",
       "      <td>2.274000</td>\n",
       "    </tr>\n",
       "    <tr>\n",
       "      <th>std</th>\n",
       "      <td>7.812549e+06</td>\n",
       "      <td>1.583648</td>\n",
       "    </tr>\n",
       "    <tr>\n",
       "      <th>min</th>\n",
       "      <td>1.103931e+10</td>\n",
       "      <td>1.000000</td>\n",
       "    </tr>\n",
       "    <tr>\n",
       "      <th>25%</th>\n",
       "      <td>1.105426e+10</td>\n",
       "      <td>1.000000</td>\n",
       "    </tr>\n",
       "    <tr>\n",
       "      <th>50%</th>\n",
       "      <td>1.106310e+10</td>\n",
       "      <td>1.000000</td>\n",
       "    </tr>\n",
       "    <tr>\n",
       "      <th>75%</th>\n",
       "      <td>1.106609e+10</td>\n",
       "      <td>4.000000</td>\n",
       "    </tr>\n",
       "    <tr>\n",
       "      <th>max</th>\n",
       "      <td>1.106778e+10</td>\n",
       "      <td>5.000000</td>\n",
       "    </tr>\n",
       "  </tbody>\n",
       "</table>\n",
       "</div>"
      ],
      "text/plain": [
       "                 id       score\n",
       "count  5.000000e+02  500.000000\n",
       "mean   1.105986e+10    2.274000\n",
       "std    7.812549e+06    1.583648\n",
       "min    1.103931e+10    1.000000\n",
       "25%    1.105426e+10    1.000000\n",
       "50%    1.106310e+10    1.000000\n",
       "75%    1.106609e+10    4.000000\n",
       "max    1.106778e+10    5.000000"
      ]
     },
     "execution_count": 39,
     "metadata": {},
     "output_type": "execute_result"
    }
   ],
   "source": [
    "df[['id','score','version']].describe()"
   ]
  },
  {
   "cell_type": "markdown",
   "id": "44602d08-5e99-4dd2-8b2e-c7837cacd620",
   "metadata": {},
   "source": [
    "### Step 4: Data cleaning /Data Filtering / Manipulation"
   ]
  },
  {
   "cell_type": "markdown",
   "id": "26084f0e-1670-48c8-9bae-5fbaec79d641",
   "metadata": {},
   "source": [
    "### Data Columns"
   ]
  },
  {
   "cell_type": "code",
   "execution_count": 8,
   "id": "19e6a843-4739-4690-afb3-f9811df964c2",
   "metadata": {},
   "outputs": [
    {
     "data": {
      "text/plain": [
       "Index(['appId', 'country', 'date', 'id', 'score', 'text', 'title', 'url',\n",
       "       'userName', 'userUrl', 'version'],\n",
       "      dtype='object')"
      ]
     },
     "execution_count": 8,
     "metadata": {},
     "output_type": "execute_result"
    }
   ],
   "source": [
    "data.columns # it shows all the columns present in the dataset"
   ]
  },
  {
   "cell_type": "markdown",
   "id": "0e2a75d0-83cb-4781-8b0e-4463682834f8",
   "metadata": {},
   "source": [
    "### Data.info"
   ]
  },
  {
   "cell_type": "code",
   "execution_count": 9,
   "id": "7c1c274a-f685-4f73-a367-288b50083fb5",
   "metadata": {},
   "outputs": [
    {
     "name": "stdout",
     "output_type": "stream",
     "text": [
      "<class 'pandas.core.frame.DataFrame'>\n",
      "RangeIndex: 500 entries, 0 to 499\n",
      "Data columns (total 11 columns):\n",
      " #   Column    Non-Null Count  Dtype \n",
      "---  ------    --------------  ----- \n",
      " 0   appId     500 non-null    int64 \n",
      " 1   country   500 non-null    object\n",
      " 2   date      500 non-null    object\n",
      " 3   id        500 non-null    int64 \n",
      " 4   score     500 non-null    int64 \n",
      " 5   text      500 non-null    object\n",
      " 6   title     500 non-null    object\n",
      " 7   url       500 non-null    object\n",
      " 8   userName  500 non-null    object\n",
      " 9   userUrl   500 non-null    object\n",
      " 10  version   500 non-null    object\n",
      "dtypes: int64(3), object(8)\n",
      "memory usage: 43.1+ KB\n"
     ]
    }
   ],
   "source": [
    "# it describes  the information of the dataset\n",
    "data.info()"
   ]
  },
  {
   "cell_type": "markdown",
   "id": "758a1eb1-93cd-4977-b570-c9e3d2951a83",
   "metadata": {},
   "source": [
    "### Data.Types"
   ]
  },
  {
   "cell_type": "code",
   "execution_count": 13,
   "id": "a5f6be41-e481-4c61-95f0-f012396a19dc",
   "metadata": {},
   "outputs": [
    {
     "data": {
      "text/plain": [
       "appId        int64\n",
       "country     object\n",
       "date        object\n",
       "id           int64\n",
       "score        int64\n",
       "text        object\n",
       "title       object\n",
       "url         object\n",
       "userName    object\n",
       "userUrl     object\n",
       "version     object\n",
       "dtype: object"
      ]
     },
     "execution_count": 13,
     "metadata": {},
     "output_type": "execute_result"
    }
   ],
   "source": [
    "data.dtypes"
   ]
  },
  {
   "cell_type": "markdown",
   "id": "6813b78f-e985-47a7-9a74-591d3a7a89ab",
   "metadata": {},
   "source": [
    "### Data Count"
   ]
  },
  {
   "cell_type": "code",
   "execution_count": 10,
   "id": "ab4cfa73-fe03-4798-b7fa-7ede7a6795a5",
   "metadata": {},
   "outputs": [
    {
     "data": {
      "text/plain": [
       "appId       500\n",
       "country     500\n",
       "date        500\n",
       "id          500\n",
       "score       500\n",
       "text        500\n",
       "title       500\n",
       "url         500\n",
       "userName    500\n",
       "userUrl     500\n",
       "version     500\n",
       "dtype: int64"
      ]
     },
     "execution_count": 10,
     "metadata": {},
     "output_type": "execute_result"
    }
   ],
   "source": [
    "# It gives the total count of the data present in the dataset\n",
    "data.count()"
   ]
  },
  {
   "cell_type": "markdown",
   "id": "2658a579-efb8-41c1-bb19-fa30f7e247a5",
   "metadata": {},
   "source": [
    "### Data value Counts"
   ]
  },
  {
   "cell_type": "code",
   "execution_count": 11,
   "id": "63082382-8261-4b94-8b60-95f72519055a",
   "metadata": {},
   "outputs": [
    {
     "data": {
      "text/plain": [
       "<bound method DataFrame.value_counts of          appId country                       date           id  score  \\\n",
       "0    389801252      DE  2024-03-20T22:37:03-07:00  11067766035      1   \n",
       "1    389801252      DE  2024-03-20T22:17:05-07:00  11067726970      4   \n",
       "2    389801252      DE  2024-03-20T16:08:40-07:00  11066866484      1   \n",
       "3    389801252      DE  2024-03-20T15:54:39-07:00  11066832683      1   \n",
       "4    389801252      DE  2024-03-20T14:59:23-07:00  11066699753      1   \n",
       "..         ...     ...                        ...          ...    ...   \n",
       "495  389801252      US  2024-03-20T10:15:45-07:00  11065969963      1   \n",
       "496  389801252      US  2024-03-20T10:14:51-07:00  11065967408      4   \n",
       "497  389801252      US  2024-03-20T10:12:51-07:00  11065961530      1   \n",
       "498  389801252      US  2024-03-20T10:03:08-07:00  11065933178      5   \n",
       "499  389801252      US  2024-03-20T10:01:09-07:00  11065927276      1   \n",
       "\n",
       "                                                  text  \\\n",
       "0    When I want to share any stories, posts or ree...   \n",
       "1    I have been using the app for a week now. I ca...   \n",
       "2    Instagram, was ist nur mit euch los? Es ist fr...   \n",
       "3     Die neue Schriftart ist so unglaublich hässlich.   \n",
       "4                        Null zufrieden darum gelöscht   \n",
       "..                                                 ...   \n",
       "495  Not able to use music since update. I can’t ma...   \n",
       "496  My insta keeps glitching out and the notes are...   \n",
       "497  Ion appreciate how y’all took my notes on both...   \n",
       "498  I love this app, Although my algorithm isn’t t...   \n",
       "499  2 advertisements back to back per every 4-5 po...   \n",
       "\n",
       "                                                 title  \\\n",
       "0                       List of friends in weird order   \n",
       "1                                      Great companion   \n",
       "2      #Instagram #Fehler #Verbesserung dringend nötig   \n",
       "3                                     Hässliche Layout   \n",
       "4    Instagram absoluter Müll geworden sorry aber e...   \n",
       "..                                                 ...   \n",
       "495                                      broken update   \n",
       "496                                            Notes??   \n",
       "497                                          Instagram   \n",
       "498                                Instagram Algorithm   \n",
       "499                       Ads make this app unbearable   \n",
       "\n",
       "                                                   url  \\\n",
       "0    https://itunes.apple.com/de/review?id=38980125...   \n",
       "1    https://itunes.apple.com/de/review?id=38980125...   \n",
       "2    https://itunes.apple.com/de/review?id=38980125...   \n",
       "3    https://itunes.apple.com/de/review?id=38980125...   \n",
       "4    https://itunes.apple.com/de/review?id=38980125...   \n",
       "..                                                 ...   \n",
       "495  https://itunes.apple.com/us/review?id=38980125...   \n",
       "496  https://itunes.apple.com/us/review?id=38980125...   \n",
       "497  https://itunes.apple.com/us/review?id=38980125...   \n",
       "498  https://itunes.apple.com/us/review?id=38980125...   \n",
       "499  https://itunes.apple.com/us/review?id=38980125...   \n",
       "\n",
       "                                              userName  \\\n",
       "0    988858b9f96ee718616ad5dc2496ff911ff86bd790caad...   \n",
       "1    06dfad50909f5bc85a0a4198d91da9e5d5ae9954e8bba6...   \n",
       "2    4b8d13b92ce712f53651cb538b1c079daa782136547a20...   \n",
       "3    52acf5c35b9fa5653f8fb7b9ab7ec305e0ead4f07708bc...   \n",
       "4    f31334bd164a58cffae342f04040b0f7cb2ad9416ed0b0...   \n",
       "..                                                 ...   \n",
       "495  fc9515e3c6cf290fe45251386d5070916358c65759e05a...   \n",
       "496  d314e04ed703c3dafe206dcf4e73bd8ac4ed9ded79be68...   \n",
       "497  d38ef2ab5f2fb0cdf4183c415f8e0bba9176ed031e9329...   \n",
       "498  07cbdff3fc7a99a2ef468ccf4fd10b301f3216dd095de4...   \n",
       "499  76034685bbad187f635975f6ac6b6af2bc302e51d1f0e8...   \n",
       "\n",
       "                                              userUrl  version  \n",
       "0     https://itunes.apple.com/de/reviews/id159880897  323.0.0  \n",
       "1    https://itunes.apple.com/de/reviews/id1333052389  323.0.0  \n",
       "2     https://itunes.apple.com/de/reviews/id711608090  323.0.0  \n",
       "3     https://itunes.apple.com/de/reviews/id830638504  323.0.0  \n",
       "4    https://itunes.apple.com/de/reviews/id1193916555  323.0.0  \n",
       "..                                                ...      ...  \n",
       "495  https://itunes.apple.com/us/reviews/id1497906061  323.0.0  \n",
       "496  https://itunes.apple.com/us/reviews/id1369652389  323.0.0  \n",
       "497  https://itunes.apple.com/us/reviews/id1499593735  323.0.0  \n",
       "498  https://itunes.apple.com/us/reviews/id1356468993  323.0.0  \n",
       "499    https://itunes.apple.com/us/reviews/id37450012  323.0.0  \n",
       "\n",
       "[500 rows x 11 columns]>"
      ]
     },
     "execution_count": 11,
     "metadata": {},
     "output_type": "execute_result"
    }
   ],
   "source": [
    "# it counts the data values in the dataset\n",
    "data.value_counts"
   ]
  },
  {
   "cell_type": "markdown",
   "id": "28f808ff-e548-4479-87df-52aaf65e8b67",
   "metadata": {},
   "source": [
    "### Data Unique"
   ]
  },
  {
   "cell_type": "code",
   "execution_count": 12,
   "id": "f854aa6b-29cc-4e29-abec-ee013e85f263",
   "metadata": {},
   "outputs": [
    {
     "data": {
      "text/plain": [
       "array([11067766035, 11067726970, 11066866484, 11066832683, 11066699753,\n",
       "       11066369305, 11066284068, 11066196209, 11066138243, 11065907989,\n",
       "       11065900310, 11065880235, 11065875751, 11065844122, 11065836287,\n",
       "       11065702634, 11065596996, 11065576825, 11065473350, 11065303525,\n",
       "       11065297400, 11064935137, 11064931396, 11064817985, 11064789101,\n",
       "       11064302392, 11063511752, 11063352240, 11063319684, 11062794364,\n",
       "       11062754862, 11062751849, 11062652734, 11062557796, 11062447766,\n",
       "       11062358778, 11062081451, 11061818455, 11061420040, 11061366290,\n",
       "       11061353330, 11061328122, 11061181549, 11061156050, 11061068409,\n",
       "       11060281353, 11059824106, 11059526495, 11059317979, 11059035710,\n",
       "       11058705656, 11058657712, 11057983713, 11057668704, 11057365880,\n",
       "       11057022715, 11056601598, 11056343239, 11056342695, 11056169808,\n",
       "       11055673244, 11055655985, 11055637516, 11055310723, 11055016674,\n",
       "       11055014377, 11054765012, 11054360954, 11054066779, 11053723207,\n",
       "       11053644275, 11053616336, 11053555287, 11053553463, 11053507209,\n",
       "       11053207559, 11052451425, 11052351165, 11052096754, 11050483713,\n",
       "       11050108233, 11049879870, 11049851695, 11049798648, 11049145519,\n",
       "       11048371003, 11048313265, 11048035131, 11046692152, 11046468810,\n",
       "       11046403787, 11046275263, 11046266320, 11046182031, 11046175059,\n",
       "       11046062511, 11046030329, 11045406341, 11044958713, 11044774143,\n",
       "       11067085751, 11067067715, 11066723260, 11066572299, 11066530120,\n",
       "       11066458127, 11066268644, 11066156260, 11066026288, 11066010543,\n",
       "       11065878841, 11065842110, 11065807966, 11065789797, 11065785403,\n",
       "       11065687497, 11065084305, 11064961770, 11064742089, 11064696603,\n",
       "       11064405836, 11063375438, 11063288230, 11063085619, 11062939022,\n",
       "       11062643925, 11062519697, 11062513780, 11062445375, 11062429861,\n",
       "       11062418720, 11062294316, 11060976518, 11059929313, 11059621205,\n",
       "       11059553772, 11059031613, 11058981634, 11058936840, 11058827768,\n",
       "       11058224544, 11057441927, 11056027491, 11055757902, 11055347750,\n",
       "       11055311402, 11055019615, 11054802166, 11054749780, 11054682926,\n",
       "       11054449773, 11053462169, 11053428872, 11053154162, 11052759286,\n",
       "       11052422781, 11052397935, 11052325592, 11052311930, 11052082844,\n",
       "       11052065009, 11052022985, 11052002662, 11051857580, 11051798694,\n",
       "       11051552456, 11051191154, 11051184571, 11050678380, 11050655179,\n",
       "       11050583143, 11050485864, 11050104623, 11049901314, 11049133559,\n",
       "       11048483151, 11048404919, 11048402217, 11047659433, 11047635862,\n",
       "       11047620763, 11047559659, 11047186413, 11047105480, 11046785860,\n",
       "       11046322000, 11046251020, 11046199085, 11046126458, 11045978883,\n",
       "       11045025713, 11044715209, 11044554937, 11044183558, 11044094764,\n",
       "       11044093768, 11043943260, 11043921482, 11043734865, 11043491332,\n",
       "       11067760638, 11067738135, 11067683573, 11067583874, 11067528902,\n",
       "       11067411817, 11067390005, 11067314223, 11067290185, 11066532513,\n",
       "       11066279904, 11066245952, 11066236972, 11066101920, 11066060481,\n",
       "       11066029230, 11065950447, 11065945137, 11065902536, 11065892167,\n",
       "       11065885928, 11065885007, 11065882522, 11065877426, 11065867947,\n",
       "       11065850158, 11065833449, 11065830885, 11065818417, 11065816363,\n",
       "       11065798388, 11065788293, 11065782170, 11065738398, 11065719133,\n",
       "       11065675665, 11065657613, 11065649961, 11065641183, 11065613827,\n",
       "       11065601723, 11065587511, 11065578418, 11065525704, 11065478842,\n",
       "       11065453167, 11065450696, 11065443278, 11065440115, 11065392153,\n",
       "       11065356780, 11065342757, 11065178135, 11065046529, 11065012921,\n",
       "       11064967047, 11064927691, 11064824881, 11064779605, 11064761995,\n",
       "       11064760454, 11064758235, 11064589456, 11064579244, 11064546044,\n",
       "       11064468950, 11064346682, 11064326364, 11064288660, 11064262093,\n",
       "       11064142544, 11064139427, 11064121628, 11064060530, 11063799344,\n",
       "       11063785660, 11063745686, 11063210929, 11063203860, 11063105140,\n",
       "       11062967475, 11062882001, 11062792566, 11062751553, 11062653738,\n",
       "       11062623036, 11062606550, 11062569308, 11062555085, 11062528319,\n",
       "       11062402176, 11062359890, 11062327825, 11062215887, 11062145583,\n",
       "       11061961565, 11061956222, 11061948651, 11061887773, 11061870074,\n",
       "       11067314637, 11067308368, 11067286003, 11067263586, 11067024692,\n",
       "       11066478198, 11066091684, 11065980610, 11065833452, 11065715532,\n",
       "       11065640425, 11065475086, 11065396016, 11065157542, 11064740246,\n",
       "       11064155471, 11063571089, 11063427983, 11063003817, 11062990242,\n",
       "       11062733971, 11062169848, 11061276137, 11060792646, 11060249074,\n",
       "       11060160637, 11060005805, 11060002718, 11059983967, 11059909959,\n",
       "       11059619227, 11059013843, 11058917426, 11058834548, 11057586921,\n",
       "       11057410746, 11056932729, 11056833925, 11056774851, 11056737588,\n",
       "       11056620368, 11056616250, 11056577544, 11056537650, 11056410333,\n",
       "       11056182574, 11055905094, 11055687885, 11055610227, 11055513058,\n",
       "       11055403268, 11055385272, 11055080046, 11054901777, 11054880427,\n",
       "       11054322742, 11053593968, 11053319925, 11052625008, 11052619056,\n",
       "       11052071842, 11051825469, 11051783208, 11051585846, 11051524220,\n",
       "       11049655955, 11049464926, 11049442258, 11049351758, 11049184383,\n",
       "       11048951603, 11048906559, 11048249206, 11048026661, 11047857244,\n",
       "       11047794067, 11047791103, 11047399125, 11047373738, 11046922326,\n",
       "       11046055417, 11044982667, 11044508878, 11044310093, 11043571090,\n",
       "       11042377304, 11041875045, 11041785309, 11041676001, 11041588692,\n",
       "       11041250705, 11041180767, 11041158767, 11040609203, 11040330842,\n",
       "       11040260420, 11040240729, 11040088920, 11040016503, 11039307221,\n",
       "       11067776033, 11067758379, 11067750763, 11067736933, 11067714889,\n",
       "       11067702337, 11067698685, 11067654142, 11067650966, 11067646006,\n",
       "       11067629490, 11067609495, 11067558009, 11067554704, 11067544735,\n",
       "       11067515978, 11067512570, 11067472595, 11067465166, 11067426655,\n",
       "       11067417059, 11067366197, 11067355685, 11067338264, 11067333952,\n",
       "       11067330929, 11067279610, 11067279073, 11067252338, 11067235665,\n",
       "       11067217683, 11067209706, 11067161293, 11067135552, 11067104694,\n",
       "       11067095670, 11067082582, 11067081775, 11067080744, 11067073703,\n",
       "       11067025731, 11067006844, 11066994826, 11066942482, 11066929699,\n",
       "       11066916130, 11066899116, 11066869371, 11066848800, 11066831867,\n",
       "       11066826601, 11066823604, 11066807376, 11066788975, 11066786154,\n",
       "       11066779419, 11066774974, 11066756967, 11066732958, 11066730781,\n",
       "       11066716886, 11066679626, 11066620451, 11066616419, 11066608346,\n",
       "       11066597467, 11066567410, 11066550539, 11066544767, 11066445227,\n",
       "       11066441884, 11066425515, 11066416233, 11066400444, 11066382819,\n",
       "       11066372891, 11066314745, 11066290176, 11066257061, 11066223623,\n",
       "       11066191622, 11066184724, 11066163517, 11066134773, 11066124837,\n",
       "       11066115527, 11066113350, 11066097740, 11066092814, 11066081488,\n",
       "       11066064184, 11066053660, 11066009575, 11065990530, 11065987111,\n",
       "       11065969963, 11065967408, 11065961530, 11065933178, 11065927276],\n",
       "      dtype=int64)"
      ]
     },
     "execution_count": 12,
     "metadata": {},
     "output_type": "execute_result"
    }
   ],
   "source": [
    "data['id'].unique()   # It gives the unique values present  in specified column"
   ]
  },
  {
   "cell_type": "code",
   "execution_count": 15,
   "id": "add62754-ef83-4d24-b1f0-392c174f62a0",
   "metadata": {},
   "outputs": [
    {
     "data": {
      "text/plain": [
       "(500, 11)"
      ]
     },
     "execution_count": 15,
     "metadata": {},
     "output_type": "execute_result"
    }
   ],
   "source": [
    "data.shape"
   ]
  },
  {
   "cell_type": "markdown",
   "id": "5289d7bf-848f-4de5-bafd-25a0bfb02bb6",
   "metadata": {},
   "source": [
    "### Data dropna"
   ]
  },
  {
   "cell_type": "code",
   "execution_count": 14,
   "id": "bb4d207f-d2ab-46c9-b265-e2f1cb7bbd13",
   "metadata": {},
   "outputs": [
    {
     "data": {
      "text/plain": [
       "<bound method DataFrame.dropna of          appId country                       date           id  score  \\\n",
       "0    389801252      DE  2024-03-20T22:37:03-07:00  11067766035      1   \n",
       "1    389801252      DE  2024-03-20T22:17:05-07:00  11067726970      4   \n",
       "2    389801252      DE  2024-03-20T16:08:40-07:00  11066866484      1   \n",
       "3    389801252      DE  2024-03-20T15:54:39-07:00  11066832683      1   \n",
       "4    389801252      DE  2024-03-20T14:59:23-07:00  11066699753      1   \n",
       "..         ...     ...                        ...          ...    ...   \n",
       "495  389801252      US  2024-03-20T10:15:45-07:00  11065969963      1   \n",
       "496  389801252      US  2024-03-20T10:14:51-07:00  11065967408      4   \n",
       "497  389801252      US  2024-03-20T10:12:51-07:00  11065961530      1   \n",
       "498  389801252      US  2024-03-20T10:03:08-07:00  11065933178      5   \n",
       "499  389801252      US  2024-03-20T10:01:09-07:00  11065927276      1   \n",
       "\n",
       "                                                  text  \\\n",
       "0    When I want to share any stories, posts or ree...   \n",
       "1    I have been using the app for a week now. I ca...   \n",
       "2    Instagram, was ist nur mit euch los? Es ist fr...   \n",
       "3     Die neue Schriftart ist so unglaublich hässlich.   \n",
       "4                        Null zufrieden darum gelöscht   \n",
       "..                                                 ...   \n",
       "495  Not able to use music since update. I can’t ma...   \n",
       "496  My insta keeps glitching out and the notes are...   \n",
       "497  Ion appreciate how y’all took my notes on both...   \n",
       "498  I love this app, Although my algorithm isn’t t...   \n",
       "499  2 advertisements back to back per every 4-5 po...   \n",
       "\n",
       "                                                 title  \\\n",
       "0                       List of friends in weird order   \n",
       "1                                      Great companion   \n",
       "2      #Instagram #Fehler #Verbesserung dringend nötig   \n",
       "3                                     Hässliche Layout   \n",
       "4    Instagram absoluter Müll geworden sorry aber e...   \n",
       "..                                                 ...   \n",
       "495                                      broken update   \n",
       "496                                            Notes??   \n",
       "497                                          Instagram   \n",
       "498                                Instagram Algorithm   \n",
       "499                       Ads make this app unbearable   \n",
       "\n",
       "                                                   url  \\\n",
       "0    https://itunes.apple.com/de/review?id=38980125...   \n",
       "1    https://itunes.apple.com/de/review?id=38980125...   \n",
       "2    https://itunes.apple.com/de/review?id=38980125...   \n",
       "3    https://itunes.apple.com/de/review?id=38980125...   \n",
       "4    https://itunes.apple.com/de/review?id=38980125...   \n",
       "..                                                 ...   \n",
       "495  https://itunes.apple.com/us/review?id=38980125...   \n",
       "496  https://itunes.apple.com/us/review?id=38980125...   \n",
       "497  https://itunes.apple.com/us/review?id=38980125...   \n",
       "498  https://itunes.apple.com/us/review?id=38980125...   \n",
       "499  https://itunes.apple.com/us/review?id=38980125...   \n",
       "\n",
       "                                              userName  \\\n",
       "0    988858b9f96ee718616ad5dc2496ff911ff86bd790caad...   \n",
       "1    06dfad50909f5bc85a0a4198d91da9e5d5ae9954e8bba6...   \n",
       "2    4b8d13b92ce712f53651cb538b1c079daa782136547a20...   \n",
       "3    52acf5c35b9fa5653f8fb7b9ab7ec305e0ead4f07708bc...   \n",
       "4    f31334bd164a58cffae342f04040b0f7cb2ad9416ed0b0...   \n",
       "..                                                 ...   \n",
       "495  fc9515e3c6cf290fe45251386d5070916358c65759e05a...   \n",
       "496  d314e04ed703c3dafe206dcf4e73bd8ac4ed9ded79be68...   \n",
       "497  d38ef2ab5f2fb0cdf4183c415f8e0bba9176ed031e9329...   \n",
       "498  07cbdff3fc7a99a2ef468ccf4fd10b301f3216dd095de4...   \n",
       "499  76034685bbad187f635975f6ac6b6af2bc302e51d1f0e8...   \n",
       "\n",
       "                                              userUrl  version  \n",
       "0     https://itunes.apple.com/de/reviews/id159880897  323.0.0  \n",
       "1    https://itunes.apple.com/de/reviews/id1333052389  323.0.0  \n",
       "2     https://itunes.apple.com/de/reviews/id711608090  323.0.0  \n",
       "3     https://itunes.apple.com/de/reviews/id830638504  323.0.0  \n",
       "4    https://itunes.apple.com/de/reviews/id1193916555  323.0.0  \n",
       "..                                                ...      ...  \n",
       "495  https://itunes.apple.com/us/reviews/id1497906061  323.0.0  \n",
       "496  https://itunes.apple.com/us/reviews/id1369652389  323.0.0  \n",
       "497  https://itunes.apple.com/us/reviews/id1499593735  323.0.0  \n",
       "498  https://itunes.apple.com/us/reviews/id1356468993  323.0.0  \n",
       "499    https://itunes.apple.com/us/reviews/id37450012  323.0.0  \n",
       "\n",
       "[500 rows x 11 columns]>"
      ]
     },
     "execution_count": 14,
     "metadata": {},
     "output_type": "execute_result"
    }
   ],
   "source": [
    "# used to remove null values from the dataset\n",
    "data.dropna"
   ]
  },
  {
   "cell_type": "code",
   "execution_count": 16,
   "id": "1d7d1d06-7c69-4124-8b77-78c3de8d97a3",
   "metadata": {},
   "outputs": [],
   "source": [
    "# checks the rows and if any null value found replace with true\n",
    "data.dropna(inplace=True)"
   ]
  },
  {
   "cell_type": "code",
   "execution_count": 17,
   "id": "9116b1b7-69cb-40e4-b9fd-7ed22e3f26f2",
   "metadata": {},
   "outputs": [
    {
     "data": {
      "text/plain": [
       "0      False\n",
       "1      False\n",
       "2      False\n",
       "3      False\n",
       "4      False\n",
       "       ...  \n",
       "495    False\n",
       "496    False\n",
       "497    False\n",
       "498    False\n",
       "499    False\n",
       "Name: id, Length: 500, dtype: bool"
      ]
     },
     "execution_count": 17,
     "metadata": {},
     "output_type": "execute_result"
    }
   ],
   "source": [
    "# checks the duplicate values in the specified column\n",
    "data['id'].duplicated()"
   ]
  },
  {
   "cell_type": "code",
   "execution_count": 18,
   "id": "115d0dc4-e3f3-45f3-88a5-08552578b804",
   "metadata": {},
   "outputs": [
    {
     "name": "stdout",
     "output_type": "stream",
     "text": [
      "0\n"
     ]
    }
   ],
   "source": [
    "duplicate_rows = data.duplicated()\n",
    "print(duplicate_rows.sum())"
   ]
  },
  {
   "cell_type": "markdown",
   "id": "6642b333-21e9-479c-bcd9-98eca49f9b96",
   "metadata": {},
   "source": [
    "### Data Sorting / searching / validation"
   ]
  },
  {
   "cell_type": "code",
   "execution_count": 20,
   "id": "ef1fdd4b-9d30-44e5-b60b-f910e22ed02b",
   "metadata": {},
   "outputs": [
    {
     "data": {
      "text/plain": [
       "0      11067766035\n",
       "1      11067726970\n",
       "2      11066866484\n",
       "3      11066832683\n",
       "4      11066699753\n",
       "          ...     \n",
       "495    11065969963\n",
       "496    11065967408\n",
       "497    11065961530\n",
       "498    11065933178\n",
       "499    11065927276\n",
       "Name: id, Length: 500, dtype: int64"
      ]
     },
     "execution_count": 20,
     "metadata": {},
     "output_type": "execute_result"
    }
   ],
   "source": [
    "# displays BreedIDDesc data in shuffled manner\n",
    "data['id']"
   ]
  },
  {
   "cell_type": "code",
   "execution_count": 21,
   "id": "f0934ec4-c6cc-43b9-81b2-b118c8439a73",
   "metadata": {},
   "outputs": [
    {
     "data": {
      "text/html": [
       "<div>\n",
       "<style scoped>\n",
       "    .dataframe tbody tr th:only-of-type {\n",
       "        vertical-align: middle;\n",
       "    }\n",
       "\n",
       "    .dataframe tbody tr th {\n",
       "        vertical-align: top;\n",
       "    }\n",
       "\n",
       "    .dataframe thead th {\n",
       "        text-align: right;\n",
       "    }\n",
       "</style>\n",
       "<table border=\"1\" class=\"dataframe\">\n",
       "  <thead>\n",
       "    <tr style=\"text-align: right;\">\n",
       "      <th></th>\n",
       "      <th>appId</th>\n",
       "      <th>country</th>\n",
       "      <th>date</th>\n",
       "      <th>id</th>\n",
       "      <th>score</th>\n",
       "      <th>text</th>\n",
       "      <th>title</th>\n",
       "      <th>url</th>\n",
       "      <th>userName</th>\n",
       "      <th>userUrl</th>\n",
       "      <th>version</th>\n",
       "    </tr>\n",
       "  </thead>\n",
       "  <tbody>\n",
       "    <tr>\n",
       "      <th>399</th>\n",
       "      <td>389801252</td>\n",
       "      <td>CA</td>\n",
       "      <td>2024-03-13T02:30:18-07:00</td>\n",
       "      <td>11039307221</td>\n",
       "      <td>5</td>\n",
       "      <td>Hey!\\nFirstly thank you so much who invented I...</td>\n",
       "      <td>Love instagram❤️</td>\n",
       "      <td>https://itunes.apple.com/ca/review?id=38980125...</td>\n",
       "      <td>eb87f507550413af3b672e0e7a71d02cd5e316a04fd6da...</td>\n",
       "      <td>https://itunes.apple.com/ca/reviews/id1604036819</td>\n",
       "      <td>322.0.0</td>\n",
       "    </tr>\n",
       "    <tr>\n",
       "      <th>398</th>\n",
       "      <td>389801252</td>\n",
       "      <td>CA</td>\n",
       "      <td>2024-03-13T06:48:09-07:00</td>\n",
       "      <td>11040016503</td>\n",
       "      <td>1</td>\n",
       "      <td>But onlyfans girls can funnel their business t...</td>\n",
       "      <td>You get banned for song lyrics</td>\n",
       "      <td>https://itunes.apple.com/ca/review?id=38980125...</td>\n",
       "      <td>c3989f59fd3ac40737ed9384b89c716e602c6e3c219916...</td>\n",
       "      <td>https://itunes.apple.com/ca/reviews/id1537747628</td>\n",
       "      <td>322.0.0</td>\n",
       "    </tr>\n",
       "    <tr>\n",
       "      <th>397</th>\n",
       "      <td>389801252</td>\n",
       "      <td>CA</td>\n",
       "      <td>2024-03-13T07:10:50-07:00</td>\n",
       "      <td>11040088920</td>\n",
       "      <td>5</td>\n",
       "      <td>🫶</td>\n",
       "      <td>Thanks for the candy</td>\n",
       "      <td>https://itunes.apple.com/ca/review?id=38980125...</td>\n",
       "      <td>804c6508a5ca47f85e90533c9901437d7bb12d3e023808...</td>\n",
       "      <td>https://itunes.apple.com/ca/reviews/id1446036263</td>\n",
       "      <td>322.1.0</td>\n",
       "    </tr>\n",
       "    <tr>\n",
       "      <th>396</th>\n",
       "      <td>389801252</td>\n",
       "      <td>CA</td>\n",
       "      <td>2024-03-13T07:58:43-07:00</td>\n",
       "      <td>11040240729</td>\n",
       "      <td>1</td>\n",
       "      <td>So many bugs, I have had to delete and redownl...</td>\n",
       "      <td>So many issues and unable to contact support</td>\n",
       "      <td>https://itunes.apple.com/ca/review?id=38980125...</td>\n",
       "      <td>3bfad515d4f5f66907d840eee3512b011c2c721615ccc8...</td>\n",
       "      <td>https://itunes.apple.com/ca/reviews/id1536652007</td>\n",
       "      <td>322.1.0</td>\n",
       "    </tr>\n",
       "    <tr>\n",
       "      <th>395</th>\n",
       "      <td>389801252</td>\n",
       "      <td>CA</td>\n",
       "      <td>2024-03-13T08:04:58-07:00</td>\n",
       "      <td>11040260420</td>\n",
       "      <td>2</td>\n",
       "      <td>What is wrong with this trash app already? Thi...</td>\n",
       "      <td>Vids constantly stop and reload after a few se...</td>\n",
       "      <td>https://itunes.apple.com/ca/review?id=38980125...</td>\n",
       "      <td>6f493b00255dcbfe22fc6b71df5b3974191555b74cb70d...</td>\n",
       "      <td>https://itunes.apple.com/ca/reviews/id24144436</td>\n",
       "      <td>322.1.0</td>\n",
       "    </tr>\n",
       "    <tr>\n",
       "      <th>...</th>\n",
       "      <td>...</td>\n",
       "      <td>...</td>\n",
       "      <td>...</td>\n",
       "      <td>...</td>\n",
       "      <td>...</td>\n",
       "      <td>...</td>\n",
       "      <td>...</td>\n",
       "      <td>...</td>\n",
       "      <td>...</td>\n",
       "      <td>...</td>\n",
       "      <td>...</td>\n",
       "    </tr>\n",
       "    <tr>\n",
       "      <th>402</th>\n",
       "      <td>389801252</td>\n",
       "      <td>US</td>\n",
       "      <td>2024-03-20T22:29:16-07:00</td>\n",
       "      <td>11067750763</td>\n",
       "      <td>1</td>\n",
       "      <td>I updated my app and now there’s no more notes…</td>\n",
       "      <td>What happened to ig notes ?????</td>\n",
       "      <td>https://itunes.apple.com/us/review?id=38980125...</td>\n",
       "      <td>68a140f769c0d04087d78268dd27ec380e45d335ba7375...</td>\n",
       "      <td>https://itunes.apple.com/us/reviews/id635320855</td>\n",
       "      <td>323.0.0</td>\n",
       "    </tr>\n",
       "    <tr>\n",
       "      <th>401</th>\n",
       "      <td>389801252</td>\n",
       "      <td>US</td>\n",
       "      <td>2024-03-20T22:33:12-07:00</td>\n",
       "      <td>11067758379</td>\n",
       "      <td>3</td>\n",
       "      <td>Twitter can do a competent iPad app, why can't...</td>\n",
       "      <td>The app for iPadOS is Shameful</td>\n",
       "      <td>https://itunes.apple.com/us/review?id=38980125...</td>\n",
       "      <td>5d3336b8815ed3cd29be86cfb542b8915ddf1d4d64cd99...</td>\n",
       "      <td>https://itunes.apple.com/us/reviews/id1518137217</td>\n",
       "      <td>323.0.0</td>\n",
       "    </tr>\n",
       "    <tr>\n",
       "      <th>200</th>\n",
       "      <td>389801252</td>\n",
       "      <td>IN</td>\n",
       "      <td>2024-03-20T22:34:19-07:00</td>\n",
       "      <td>11067760638</td>\n",
       "      <td>1</td>\n",
       "      <td>Please resolve this issue asap</td>\n",
       "      <td>Unable to upload story on insta</td>\n",
       "      <td>https://itunes.apple.com/in/review?id=38980125...</td>\n",
       "      <td>08f124cffb8249a55d5d768e8428eec28ff5d83143c88f...</td>\n",
       "      <td>https://itunes.apple.com/in/reviews/id1637758208</td>\n",
       "      <td>323.0.0</td>\n",
       "    </tr>\n",
       "    <tr>\n",
       "      <th>0</th>\n",
       "      <td>389801252</td>\n",
       "      <td>DE</td>\n",
       "      <td>2024-03-20T22:37:03-07:00</td>\n",
       "      <td>11067766035</td>\n",
       "      <td>1</td>\n",
       "      <td>When I want to share any stories, posts or ree...</td>\n",
       "      <td>List of friends in weird order</td>\n",
       "      <td>https://itunes.apple.com/de/review?id=38980125...</td>\n",
       "      <td>988858b9f96ee718616ad5dc2496ff911ff86bd790caad...</td>\n",
       "      <td>https://itunes.apple.com/de/reviews/id159880897</td>\n",
       "      <td>323.0.0</td>\n",
       "    </tr>\n",
       "    <tr>\n",
       "      <th>400</th>\n",
       "      <td>389801252</td>\n",
       "      <td>US</td>\n",
       "      <td>2024-03-20T22:42:15-07:00</td>\n",
       "      <td>11067776033</td>\n",
       "      <td>1</td>\n",
       "      <td>I’m Muslim and they’re not allowing me to uplo...</td>\n",
       "      <td>Islamophobic</td>\n",
       "      <td>https://itunes.apple.com/us/review?id=38980125...</td>\n",
       "      <td>2478bffc7a4c34638838b18463382baa09145706e24622...</td>\n",
       "      <td>https://itunes.apple.com/us/reviews/id1599819270</td>\n",
       "      <td>323.0.0</td>\n",
       "    </tr>\n",
       "  </tbody>\n",
       "</table>\n",
       "<p>500 rows × 11 columns</p>\n",
       "</div>"
      ],
      "text/plain": [
       "         appId country                       date           id  score  \\\n",
       "399  389801252      CA  2024-03-13T02:30:18-07:00  11039307221      5   \n",
       "398  389801252      CA  2024-03-13T06:48:09-07:00  11040016503      1   \n",
       "397  389801252      CA  2024-03-13T07:10:50-07:00  11040088920      5   \n",
       "396  389801252      CA  2024-03-13T07:58:43-07:00  11040240729      1   \n",
       "395  389801252      CA  2024-03-13T08:04:58-07:00  11040260420      2   \n",
       "..         ...     ...                        ...          ...    ...   \n",
       "402  389801252      US  2024-03-20T22:29:16-07:00  11067750763      1   \n",
       "401  389801252      US  2024-03-20T22:33:12-07:00  11067758379      3   \n",
       "200  389801252      IN  2024-03-20T22:34:19-07:00  11067760638      1   \n",
       "0    389801252      DE  2024-03-20T22:37:03-07:00  11067766035      1   \n",
       "400  389801252      US  2024-03-20T22:42:15-07:00  11067776033      1   \n",
       "\n",
       "                                                  text  \\\n",
       "399  Hey!\\nFirstly thank you so much who invented I...   \n",
       "398  But onlyfans girls can funnel their business t...   \n",
       "397                                                  🫶   \n",
       "396  So many bugs, I have had to delete and redownl...   \n",
       "395  What is wrong with this trash app already? Thi...   \n",
       "..                                                 ...   \n",
       "402    I updated my app and now there’s no more notes…   \n",
       "401  Twitter can do a competent iPad app, why can't...   \n",
       "200                     Please resolve this issue asap   \n",
       "0    When I want to share any stories, posts or ree...   \n",
       "400  I’m Muslim and they’re not allowing me to uplo...   \n",
       "\n",
       "                                                 title  \\\n",
       "399                                   Love instagram❤️   \n",
       "398                     You get banned for song lyrics   \n",
       "397                               Thanks for the candy   \n",
       "396       So many issues and unable to contact support   \n",
       "395  Vids constantly stop and reload after a few se...   \n",
       "..                                                 ...   \n",
       "402                    What happened to ig notes ?????   \n",
       "401                     The app for iPadOS is Shameful   \n",
       "200                    Unable to upload story on insta   \n",
       "0                       List of friends in weird order   \n",
       "400                                       Islamophobic   \n",
       "\n",
       "                                                   url  \\\n",
       "399  https://itunes.apple.com/ca/review?id=38980125...   \n",
       "398  https://itunes.apple.com/ca/review?id=38980125...   \n",
       "397  https://itunes.apple.com/ca/review?id=38980125...   \n",
       "396  https://itunes.apple.com/ca/review?id=38980125...   \n",
       "395  https://itunes.apple.com/ca/review?id=38980125...   \n",
       "..                                                 ...   \n",
       "402  https://itunes.apple.com/us/review?id=38980125...   \n",
       "401  https://itunes.apple.com/us/review?id=38980125...   \n",
       "200  https://itunes.apple.com/in/review?id=38980125...   \n",
       "0    https://itunes.apple.com/de/review?id=38980125...   \n",
       "400  https://itunes.apple.com/us/review?id=38980125...   \n",
       "\n",
       "                                              userName  \\\n",
       "399  eb87f507550413af3b672e0e7a71d02cd5e316a04fd6da...   \n",
       "398  c3989f59fd3ac40737ed9384b89c716e602c6e3c219916...   \n",
       "397  804c6508a5ca47f85e90533c9901437d7bb12d3e023808...   \n",
       "396  3bfad515d4f5f66907d840eee3512b011c2c721615ccc8...   \n",
       "395  6f493b00255dcbfe22fc6b71df5b3974191555b74cb70d...   \n",
       "..                                                 ...   \n",
       "402  68a140f769c0d04087d78268dd27ec380e45d335ba7375...   \n",
       "401  5d3336b8815ed3cd29be86cfb542b8915ddf1d4d64cd99...   \n",
       "200  08f124cffb8249a55d5d768e8428eec28ff5d83143c88f...   \n",
       "0    988858b9f96ee718616ad5dc2496ff911ff86bd790caad...   \n",
       "400  2478bffc7a4c34638838b18463382baa09145706e24622...   \n",
       "\n",
       "                                              userUrl  version  \n",
       "399  https://itunes.apple.com/ca/reviews/id1604036819  322.0.0  \n",
       "398  https://itunes.apple.com/ca/reviews/id1537747628  322.0.0  \n",
       "397  https://itunes.apple.com/ca/reviews/id1446036263  322.1.0  \n",
       "396  https://itunes.apple.com/ca/reviews/id1536652007  322.1.0  \n",
       "395    https://itunes.apple.com/ca/reviews/id24144436  322.1.0  \n",
       "..                                                ...      ...  \n",
       "402   https://itunes.apple.com/us/reviews/id635320855  323.0.0  \n",
       "401  https://itunes.apple.com/us/reviews/id1518137217  323.0.0  \n",
       "200  https://itunes.apple.com/in/reviews/id1637758208  323.0.0  \n",
       "0     https://itunes.apple.com/de/reviews/id159880897  323.0.0  \n",
       "400  https://itunes.apple.com/us/reviews/id1599819270  323.0.0  \n",
       "\n",
       "[500 rows x 11 columns]"
      ]
     },
     "execution_count": 21,
     "metadata": {},
     "output_type": "execute_result"
    }
   ],
   "source": [
    "# arranging BreedIDDesc in ascending value\n",
    "data.sort_values('id',ascending=True)"
   ]
  },
  {
   "cell_type": "markdown",
   "id": "d0992607-1976-459c-b39a-d44edc67883e",
   "metadata": {},
   "source": [
    "### Data Visualization"
   ]
  },
  {
   "cell_type": "code",
   "execution_count": 7,
   "id": "14f2d8d2-24db-40e6-aa27-5ee913b845c6",
   "metadata": {},
   "outputs": [],
   "source": [
    "import matplotlib.pyplot as plt"
   ]
  },
  {
   "cell_type": "markdown",
   "id": "61cc84e2-ee10-439f-9282-a53754ccb581",
   "metadata": {},
   "source": [
    "### It display the pie chart for version and score"
   ]
  },
  {
   "cell_type": "code",
   "execution_count": 18,
   "id": "dfe7a774-7f66-4b99-8333-fef85e6da9fe",
   "metadata": {},
   "outputs": [
    {
     "data": {
      "image/png": "[encoded data removed]",
      "text/plain": [
       "<Figure size 640x480 with 1 Axes>"
      ]
     },
     "metadata": {},
     "output_type": "display_data"
    }
   ],
   "source": [
    "df=pd.DataFrame(data.head(500))    # Asiigning data to df variable\n",
    "\n",
    "df['score'].value_counts().plot(kind='pie',autopct='%1.1f%%') # creating a pie chart for score\n",
    "plt.title(\"version\n",
    "#legend properties\n",
    "plt.legend(loc='upper right', fontsize=16, shadow=True,bbox_to_anchor=(2,1))\n",
    "plt.show()"
   ]
  },
  {
   "cell_type": "markdown",
   "id": "4a981c68-9918-4b1a-b571-55f7bedd72ba",
   "metadata": {},
   "source": [
    "### It displays the Bar Chart for score"
   ]
  },
  {
   "cell_type": "code",
   "execution_count": 39,
   "id": "796abcfc-feb6-4a87-8bc3-bc2631ee12d3",
   "metadata": {},
   "outputs": [
    {
     "data": {
      "image/png": "[encoded data removed]",
      "text/plain": [
       "<Figure size 640x480 with 1 Axes>"
      ]
     },
     "metadata": {},
     "output_type": "display_data"
    }
   ],
   "source": [
    "df=pd.DataFrame(data.head(500))\n",
    "df['score'].value_counts().plot(kind='bar',color='purple',)\n",
    "plt.xlabel('appid')\n",
    "plt.ylabel('date')\n",
    "plt.title(\"title\")\n",
    "plt.xticks(rotation=60)\n",
    "plt.show()"
   ]
  },
  {
   "cell_type": "markdown",
   "id": "55fc19a9-f888-4880-bd06-02720e1caae1",
   "metadata": {},
   "source": [
    "### Histogram for SCORE"
   ]
  },
  {
   "cell_type": "code",
   "execution_count": 66,
   "id": "6982a2d5-4bc5-48dd-830e-9f7924b90f2a",
   "metadata": {},
   "outputs": [
    {
     "data": {
      "image/png": "[encoded data removed]",
      "text/plain": [
       "<Figure size 640x480 with 1 Axes>"
      ]
     },
     "metadata": {},
     "output_type": "display_data"
    }
   ],
   "source": [
    "df = pd.DataFrame(data.head(500))  # Create a DataFrame from the first 500 rows of 'data'\n",
    "\n",
    "# Choose the column you want to visualize (replace 'column_name' with the actual name)\n",
    "column_to_plot = 'score'\n",
    "\n",
    "# Create the histogram\n",
    "plt.hist(df['version'])\n",
    "plt.xlabel('score')  # Label for the x-axis\n",
    "plt.ylabel('')  # Label for the y-axis\n",
    "plt.title('Histogram graph - X- ' + column_to_plot)  # Title for the plot\n",
    "plt.grid(axis='y')  # Add gridlines for better readability (optional)\n",
    "plt.show()\n"
   ]
  },
  {
   "cell_type": "markdown",
   "id": "ed8d2e4e-1b3d-4957-b4bd-7095a0eadb29",
   "metadata": {},
   "source": [
    "### 2D Line Graph"
   ]
  },
  {
   "cell_type": "code",
   "execution_count": 50,
   "id": "91471f70-9bfc-487a-9636-4a527d6006ee",
   "metadata": {},
   "outputs": [
    {
     "data": {
      "image/png": "[encoded data removed]",
      "text/plain": [
       "<Figure size 640x480 with 1 Axes>"
      ]
     },
     "metadata": {},
     "output_type": "display_data"
    }
   ],
   "source": [
    "df = pd.DataFrame(data.head(500))  # Create a DataFrame from the first 500 rows of 'data'\n",
    "\n",
    "# Choose the columns you want to plot \n",
    "column_to_plot_x = 'version'\n",
    "column_to_plot_y = 'id'\n",
    "\n",
    "# Create the line graph\n",
    "plt.plot(df['date'], df['id'])\n",
    "plt.xlabel('date')  # Label for the x-axis\n",
    "plt.ylabel('id')  # Label for the y-axis\n",
    "plt.title('2D Line Graph')  # Title for the plot\n",
    "plt.grid(True)  # Add gridlines for better readability\n",
    "plt.show()"
   ]
  },
  {
   "cell_type": "markdown",
   "id": "a76f633c-2c9d-4d38-8543-93b0a96525fe",
   "metadata": {},
   "source": [
    "### Scatter Graph for Version & ID"
   ]
  },
  {
   "cell_type": "code",
   "execution_count": 67,
   "id": "0a930d54-4246-446c-a54d-6251ff079382",
   "metadata": {},
   "outputs": [
    {
     "data": {
      "image/png": "[encoded data removed]",
      "text/plain": [
       "<Figure size 640x480 with 1 Axes>"
      ]
     },
     "metadata": {},
     "output_type": "display_data"
    }
   ],
   "source": [
    "df = pd.DataFrame(data.head(500))  # Create a DataFrame from the first 500 rows of 'data'\n",
    "\n",
    "# Choose the columns you want to plot (replace 'column1' and 'column2' with actual names)\n",
    "column_to_plot_x = 'id'\n",
    "column_to_plot_y = 'version'\n",
    "\n",
    "# Create the scatter graph\n",
    "plt.scatter(df['version'], df['id'])\n",
    "plt.xlabel('version')  # Label for the x-axis\n",
    "plt.ylabel('id')  # Label for the y-axis\n",
    "plt.title('Scatter Graph')  # Title for the plot\n",
    "plt.grid(True)  # Add gridlines for better readability\n",
    "plt.show()"
   ]
  },
  {
   "cell_type": "markdown",
   "id": "b9614e00-cd10-4f49-8bbd-1096bcac0e0b",
   "metadata": {},
   "source": [
    "## Conclusion"
   ]
  },
  {
   "cell_type": "markdown",
   "id": "a8e812d6-9d58-4368-a6b7-6ae801878e1d",
   "metadata": {},
   "source": [
    "\"Appstore Instagram Reviews Anonymized\" project successfully utilized Python libraries like pandas and matplotlib to clean, manipulate, visualize, and analyze anonymized Instagram review data. This process involved data cleaning to ensure data integrity, manipulation to organize the information, visualization to create informative graphs and charts, and analysis to extract valuable insights and trends.  \n",
    "By focusing on both technical aspects and user privacy, this project contributes to a data-driven approach for making informed decisions.  \n",
    "The functionalities implemented include data view, cleaning, filtering, manipulation, sorting, searching, validation, visualization, and the generation of graphs. These functionalities provide a comprehensive toolbox for exploring and understanding the anonymized review data."
   ]
  },
  {
   "cell_type": "code",
   "execution_count": null,
   "id": "9d00f598-889a-41a0-afbe-e3b4855fc5ff",
   "metadata": {},
   "outputs": [],
   "source": []
  }
 ],
 "metadata": {
  "kernelspec": {
   "display_name": "Python 3 (ipykernel)",
   "language": "python",
   "name": "python3"
  },
  "language_info": {
   "codemirror_mode": {
    "name": "ipython",
    "version": 3
   },
   "file_extension": ".py",
   "mimetype": "text/x-python",
   "name": "python",
   "nbconvert_exporter": "python",
   "pygments_lexer": "ipython3",
   "version": "3.11.7"
  }
 },
 "nbformat": 4,
 "nbformat_minor": 5
}
